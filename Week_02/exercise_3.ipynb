{
 "cells": [
  {
   "cell_type": "markdown",
   "metadata": {},
   "source": [
    "# calculator program"
   ]
  },
  {
   "cell_type": "code",
   "execution_count": 1,
   "metadata": {},
   "outputs": [
    {
     "name": "stdout",
     "output_type": "stream",
     "text": [
      "Enter first number5\n",
      "enter your operation '\n",
      "Enter second number5\n",
      "Enter correct operation\n"
     ]
    }
   ],
   "source": [
    "def addition(x,y):\n",
    "    result = int(x)+int(y)\n",
    "    print(result)\n",
    "def substraction(x,y):\n",
    "    result = int(x)-int(y)\n",
    "    print(result)\n",
    "def multiplication(x,y):\n",
    "    result = int(x)*int(y)\n",
    "    print(result)\n",
    "def division(x,y):\n",
    "    if int(y)==0:\n",
    "        print(\"you cant divid by 0\")\n",
    "    else:\n",
    "        result = int(x)/int(y)\n",
    "        print(result)\n",
    "\n",
    "x = input(\"Enter first number\")\n",
    "operation = input(\"enter your operation \" )\n",
    "y = input(\"Enter second number\")\n",
    "if operation == \"+\":\n",
    "    addition(x,y)\n",
    "elif operation == \"-\":\n",
    "    substraction(x,y)\n",
    "elif operation == \"*\":\n",
    "    multiplication(x,y)\n",
    "    \n",
    "elif operation == \"/\":\n",
    "    division(x,y)\n",
    "else:\n",
    "    print(\"Enter correct operation\")"
   ]
  },
  {
   "cell_type": "code",
   "execution_count": null,
   "metadata": {},
   "outputs": [],
   "source": []
  }
 ],
 "metadata": {
  "kernelspec": {
   "display_name": "Python 3",
   "language": "python",
   "name": "python3"
  },
  "language_info": {
   "codemirror_mode": {
    "name": "ipython",
    "version": 3
   },
   "file_extension": ".py",
   "mimetype": "text/x-python",
   "name": "python",
   "nbconvert_exporter": "python",
   "pygments_lexer": "ipython3",
   "version": "3.8.5"
  }
 },
 "nbformat": 4,
 "nbformat_minor": 4
}
