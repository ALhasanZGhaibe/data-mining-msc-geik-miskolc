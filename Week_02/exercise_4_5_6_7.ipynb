{
 "cells": [
  {
   "cell_type": "markdown",
   "metadata": {},
   "source": [
    "# List statistics: write a function for counting each element of a list and print out the statistics"
   ]
  },
  {
   "cell_type": "code",
   "execution_count": null,
   "metadata": {},
   "outputs": [],
   "source": [
    "st = input(\"Enter comma separated integers :\")\n",
    "num =[]\n",
    "lst = st.split(',')\n",
    "l ={}\n",
    "#convert each element in \"lst\" to an integer element and put it in new list \"num\"\n",
    "for i in lst:\n",
    "    num.append(int(i))\n",
    "#count the frequency of elements of \"num\" list\n",
    "for ele in num:\n",
    "    l[ele]=num.count(ele)\n",
    "#count average\n",
    "list_avg = sum(num)/len(num)\n",
    "print(\"average of list is :\",list_avg)\n",
    "a = abs(list_avg-num[0])\n",
    "# find Closest to average element\n",
    "j = 0\n",
    "for i in num:\n",
    "    if abs(list_avg-i)<=a:\n",
    "        a = abs(list_avg-i)\n",
    "        index = j\n",
    "        \n",
    "    j+=1\n",
    "        \n",
    "print(\"the closest to average element is:\",num[index])\n"
   ]
  },
  {
   "cell_type": "code",
   "execution_count": null,
   "metadata": {},
   "outputs": [],
   "source": [
    "# create all pairs of the list\n",
    "pair=[]\n",
    "for i in range(len(num)):\n",
    "    for j in range(i+1,len(num)):\n",
    "        pair.append((num[i],num[j]))\n",
    "print(\"list of pairs is :\",pair)"
   ]
  },
  {
   "cell_type": "code",
   "execution_count": null,
   "metadata": {},
   "outputs": [],
   "source": [
    "#find the gratest pair\n",
    "a = num[0]\n",
    "b = num[1]\n",
    "greatest_pair=[]\n",
    "for i in range(len(num)):\n",
    "    for j in range(i+1,len(num)):\n",
    "        if num[i]+num[j]> a+b:\n",
    "            a=num[i]\n",
    "            b=num[j]\n",
    "greatest_pair.append((a,b))\n",
    "print(\"the gratest pair is:\", greatest_pair)"
   ]
  },
  {
   "cell_type": "code",
   "execution_count": null,
   "metadata": {},
   "outputs": [],
   "source": [
    "#Check if the elements in a list are monotone increasing / decreasing\n",
    "for i in range(len(num)):\n",
    "    for j in range(i+1,len(num)):\n",
    "        if num[i]>num[j]:\n",
    "            x =0\n",
    "        elif num[i]<num[j]:\n",
    "            x=1\n",
    "        else:\n",
    "            x=2\n",
    "if x==0:\n",
    "    print(\"list are monotone decreasing\")\n",
    "elif x==1:\n",
    "    print(\"list are monotone increasing\")\n",
    "else:\n",
    "    print(\"random list\")\n"
   ]
  },
  {
   "cell_type": "code",
   "execution_count": null,
   "metadata": {},
   "outputs": [],
   "source": []
  }
 ],
 "metadata": {
  "kernelspec": {
   "display_name": "Python 3",
   "language": "python",
   "name": "python3"
  },
  "language_info": {
   "codemirror_mode": {
    "name": "ipython",
    "version": 3
   },
   "file_extension": ".py",
   "mimetype": "text/x-python",
   "name": "python",
   "nbconvert_exporter": "python",
   "pygments_lexer": "ipython3",
   "version": "3.8.5"
  }
 },
 "nbformat": 4,
 "nbformat_minor": 4
}
