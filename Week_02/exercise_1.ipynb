{
 "cells": [
  {
   "cell_type": "markdown",
   "metadata": {},
   "source": [
    "# Guess my number"
   ]
  },
  {
   "cell_type": "code",
   "execution_count": 1,
   "metadata": {},
   "outputs": [
    {
     "name": "stdout",
     "output_type": "stream",
     "text": [
      "Can you guess my number?\n",
      "2\n",
      "You have correctly guessed my number!\n"
     ]
    }
   ],
   "source": [
    "# import needed libraries\n",
    "from random import seed\n",
    "from random import randint\n",
    "\n",
    "# generate random number \n",
    "seed(1)\n",
    "my_number = randint(0, 10)\n",
    "user_guess = 0\n",
    "while user_guess != my_number:\n",
    "    print('Can you guess my number?')\n",
    "    user_guess = int(input())\n",
    "    if user_guess < my_number:\n",
    "        print('smaller')\n",
    "    elif user_guess > my_number:\n",
    "        print('greater')\n",
    "print('You have correctly guessed my number!')\n",
    "\n"
   ]
  },
  {
   "cell_type": "code",
   "execution_count": null,
   "metadata": {},
   "outputs": [],
   "source": []
  }
 ],
 "metadata": {
  "kernelspec": {
   "display_name": "Python 3",
   "language": "python",
   "name": "python3"
  },
  "language_info": {
   "codemirror_mode": {
    "name": "ipython",
    "version": 3
   },
   "file_extension": ".py",
   "mimetype": "text/x-python",
   "name": "python",
   "nbconvert_exporter": "python",
   "pygments_lexer": "ipython3",
   "version": "3.8.5"
  }
 },
 "nbformat": 4,
 "nbformat_minor": 4
}
