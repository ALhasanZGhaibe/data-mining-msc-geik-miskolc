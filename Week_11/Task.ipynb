{
 "cells": [
  {
   "cell_type": "markdown",
   "metadata": {},
   "source": [
    "# Choose an appropriate dataset for classification and explore (apply, evaluate and compare) classification methods (Naive Bayes, KNN, SVM)."
   ]
  },
  {
   "cell_type": "code",
   "execution_count": 92,
   "metadata": {},
   "outputs": [],
   "source": [
    "#import needed libraries\n",
    "import pandas as pd\n",
    "import numpy as np\n",
    "import seaborn as sns\n",
    "import matplotlib.pyplot as plt\n",
    "import matplotlib.colors as colors\n",
    "from pandas.plotting import parallel_coordinates\n",
    "\n",
    "#Metrics\n",
    "from sklearn import metrics\n",
    "from sklearn.metrics import make_scorer, accuracy_score,precision_score\n",
    "from sklearn.metrics import classification_report\n",
    "from sklearn.metrics import confusion_matrix\n",
    "from sklearn.metrics import accuracy_score ,precision_score,recall_score,f1_score\n",
    "\n",
    "#Model Select\n",
    "from sklearn import linear_model\n",
    "from sklearn.model_selection import train_test_split\n",
    "from sklearn.ensemble import RandomForestClassifier\n",
    "from sklearn.linear_model import  LogisticRegression\n",
    "from sklearn.linear_model import SGDClassifier\n",
    "from sklearn.tree import DecisionTreeClassifier\n",
    "from sklearn.neighbors import KNeighborsClassifier\n",
    "from sklearn.svm import SVC, LinearSVC\n",
    "from sklearn.naive_bayes import GaussianNB\n",
    "from sklearn.tree import DecisionTreeClassifier, plot_tree\n",
    "from sklearn.model_selection import cross_val_score"
   ]
  },
  {
   "cell_type": "code",
   "execution_count": 93,
   "metadata": {},
   "outputs": [
    {
     "name": "stdout",
     "output_type": "stream",
     "text": [
      "Data before cleaning\n",
      "       total_bill         tip        size\n",
      "count  244.000000  244.000000  244.000000\n",
      "mean    19.785943    2.998279    2.569672\n",
      "std      8.902412    1.383638    0.951100\n",
      "min      3.070000    1.000000    1.000000\n",
      "25%     13.347500    2.000000    2.000000\n",
      "50%     17.795000    2.900000    2.000000\n",
      "75%     24.127500    3.562500    3.000000\n",
      "max     50.810000   10.000000    6.000000\n"
     ]
    }
   ],
   "source": [
    "# Reading dataset\n",
    "df = pd.read_csv(\"tips.csv\")\n",
    "\n",
    "# describe the dataset before cleaning\n",
    "print(\"Data before cleaning\")\n",
    "print(df.describe())\n"
   ]
  },
  {
   "cell_type": "code",
   "execution_count": 94,
   "metadata": {},
   "outputs": [
    {
     "name": "stdout",
     "output_type": "stream",
     "text": [
      "Data after cleaning\n",
      "       total_bill         tip        size\n",
      "count  243.000000  243.000000  243.000000\n",
      "mean    19.813868    3.002387    2.572016\n",
      "std      8.910071    1.385002    0.952356\n",
      "min      3.070000    1.000000    1.000000\n",
      "25%     13.380000    2.000000    2.000000\n",
      "50%     17.810000    2.920000    2.000000\n",
      "75%     24.175000    3.575000    3.000000\n",
      "max     50.810000   10.000000    6.000000\n"
     ]
    }
   ],
   "source": [
    "# cleaning the data\n",
    "# 1 - drop rows with missing value of \"total_bill\" ,\"size\",\"tip\" columns\n",
    "df.dropna(subset=['total_bill'], inplace = True)\n",
    "df.dropna(subset=['tip'], inplace = True)\n",
    "df.dropna(subset=['size'], inplace = True)\n",
    "# 2 - drop duplicated rows\n",
    "df.drop_duplicates(inplace=True)\n",
    "# after cleaning\n",
    "print(\"Data after cleaning\")\n",
    "print(df.describe())"
   ]
  },
  {
   "cell_type": "code",
   "execution_count": 95,
   "metadata": {},
   "outputs": [],
   "source": [
    "# reset the index after data cleaning \n",
    "# because one-hot encoding maps values by index\n",
    "df.reset_index(inplace=True, drop=True)"
   ]
  },
  {
   "cell_type": "code",
   "execution_count": 96,
   "metadata": {},
   "outputs": [
    {
     "name": "stdout",
     "output_type": "stream",
     "text": [
      "     total_bill   tip smoker   day    time  size  Female\n",
      "0         16.99  1.01     No   Sun  Dinner     2     0.0\n",
      "1         10.34  1.66     No   Sun  Dinner     3     1.0\n",
      "2         21.01  3.50     No   Sun  Dinner     3     1.0\n",
      "3         23.68  3.31     No   Sun  Dinner     2     1.0\n",
      "4         24.59  3.61     No   Sun  Dinner     4     0.0\n",
      "..          ...   ...    ...   ...     ...   ...     ...\n",
      "238       29.03  5.92     No   Sat  Dinner     3     1.0\n",
      "239       27.18  2.00    Yes   Sat  Dinner     2     0.0\n",
      "240       22.67  2.00    Yes   Sat  Dinner     2     1.0\n",
      "241       17.82  1.75     No   Sat  Dinner     2     1.0\n",
      "242       18.78  3.00     No  Thur  Dinner     2     0.0\n",
      "\n",
      "[243 rows x 7 columns]\n"
     ]
    }
   ],
   "source": [
    "# applying one-hot encoding on the \"sex\" column\n",
    "from sklearn.preprocessing import LabelEncoder\n",
    "from sklearn.preprocessing import OneHotEncoder\n",
    "\n",
    "label_encoder = LabelEncoder()\n",
    "column_encoded = label_encoder.fit_transform(df['sex'])\n",
    "column_reshaped = column_encoded.reshape(len(column_encoded), 1)\n",
    "\n",
    "onehot_encoder = OneHotEncoder(sparse=False, handle_unknown='error', drop='first', categories='auto')\n",
    "column_onehot_encoded = onehot_encoder.fit_transform(column_reshaped)\n",
    "\n",
    "ohe_df = pd.DataFrame(column_onehot_encoded)\n",
    "df = df.join(ohe_df)\n",
    "df = df.rename({0: \"Female\"}, axis=1)\n",
    "df.drop(columns=['sex'], inplace=True)\n",
    "print(df)"
   ]
  },
  {
   "cell_type": "code",
   "execution_count": 97,
   "metadata": {},
   "outputs": [
    {
     "name": "stdout",
     "output_type": "stream",
     "text": [
      "     total_bill   tip smoker   day  size  Female  time_ordinal\n",
      "0         16.99  1.01     No   Sun     2     0.0             0\n",
      "1         10.34  1.66     No   Sun     3     1.0             0\n",
      "2         21.01  3.50     No   Sun     3     1.0             0\n",
      "3         23.68  3.31     No   Sun     2     1.0             0\n",
      "4         24.59  3.61     No   Sun     4     0.0             0\n",
      "..          ...   ...    ...   ...   ...     ...           ...\n",
      "238       29.03  5.92     No   Sat     3     1.0             0\n",
      "239       27.18  2.00    Yes   Sat     2     0.0             0\n",
      "240       22.67  2.00    Yes   Sat     2     1.0             0\n",
      "241       17.82  1.75     No   Sat     2     1.0             0\n",
      "242       18.78  3.00     No  Thur     2     0.0             0\n",
      "\n",
      "[243 rows x 7 columns]\n"
     ]
    }
   ],
   "source": [
    "# applying ordinal encoding on the \"time\" column \n",
    "islands_dict = {'Dinner': 0, 'Lunch': 1}\n",
    "# setting the new column as int64 to make it appear in the heatmap below\n",
    "df['time_ordinal'] = df.time.map(islands_dict).astype('int64')\n",
    "df.drop(columns=['time'], inplace=True)\n",
    "print(df)"
   ]
  },
  {
   "cell_type": "code",
   "execution_count": 98,
   "metadata": {},
   "outputs": [
    {
     "data": {
      "text/html": [
       "<div>\n",
       "<style scoped>\n",
       "    .dataframe tbody tr th:only-of-type {\n",
       "        vertical-align: middle;\n",
       "    }\n",
       "\n",
       "    .dataframe tbody tr th {\n",
       "        vertical-align: top;\n",
       "    }\n",
       "\n",
       "    .dataframe thead th {\n",
       "        text-align: right;\n",
       "    }\n",
       "</style>\n",
       "<table border=\"1\" class=\"dataframe\">\n",
       "  <thead>\n",
       "    <tr style=\"text-align: right;\">\n",
       "      <th>col_0</th>\n",
       "      <th>count</th>\n",
       "    </tr>\n",
       "    <tr>\n",
       "      <th>day</th>\n",
       "      <th></th>\n",
       "    </tr>\n",
       "  </thead>\n",
       "  <tbody>\n",
       "    <tr>\n",
       "      <th>Fri</th>\n",
       "      <td>19</td>\n",
       "    </tr>\n",
       "    <tr>\n",
       "      <th>Sat</th>\n",
       "      <td>87</td>\n",
       "    </tr>\n",
       "    <tr>\n",
       "      <th>Sun</th>\n",
       "      <td>76</td>\n",
       "    </tr>\n",
       "    <tr>\n",
       "      <th>Thur</th>\n",
       "      <td>61</td>\n",
       "    </tr>\n",
       "  </tbody>\n",
       "</table>\n",
       "</div>"
      ],
      "text/plain": [
       "col_0  count\n",
       "day         \n",
       "Fri       19\n",
       "Sat       87\n",
       "Sun       76\n",
       "Thur      61"
      ]
     },
     "execution_count": 98,
     "metadata": {},
     "output_type": "execute_result"
    }
   ],
   "source": [
    "#Frequency distribution of species\n",
    "pd.crosstab(index=df[\"day\"], columns=\"count\")"
   ]
  },
  {
   "cell_type": "code",
   "execution_count": 108,
   "metadata": {},
   "outputs": [
    {
     "data": {
      "image/png": "[encoded data removed]",
      "text/plain": [
       "<Figure size 576x576 with 6 Axes>"
      ]
     },
     "metadata": {},
     "output_type": "display_data"
    }
   ],
   "source": [
    "# Explore the TRAINING data\n",
    "\n",
    "#Create histograms for each feature\n",
    "n_bins = 10\n",
    "fig, axs = plt.subplots(3, 2, figsize=(8, 8))\n",
    "axs[0,0].hist(df.iloc[:,1].values, bins = n_bins)\n",
    "axs[0,0].set_title('total_bill')\n",
    "axs[0,1].hist(df.iloc[:,2].values, bins = n_bins)\n",
    "axs[0,1].set_title('tip')\n",
    "axs[1,0].hist(df.iloc[:,3].values, bins = n_bins)\n",
    "axs[1,0].set_title('size')\n",
    "axs[2,0].hist(df.iloc[:,5].values, bins = n_bins)\n",
    "axs[2,0].set_title('Female')\n",
    "axs[2,1].hist(df.iloc[:,6].values, bins = n_bins)\n",
    "axs[2,1].set_title('time_ordinal')\n",
    "\n",
    "# add some spacing between subplots\n",
    "fig.tight_layout(pad=2.0)"
   ]
  },
  {
   "cell_type": "code",
   "execution_count": 152,
   "metadata": {},
   "outputs": [
    {
     "name": "stdout",
     "output_type": "stream",
     "text": [
      "[[16.99  1.01  2.    0.    0.  ]\n",
      " [10.34  1.66  3.    1.    0.  ]\n",
      " [21.01  3.5   3.    1.    0.  ]\n",
      " ...\n",
      " [22.67  2.    2.    1.    0.  ]\n",
      " [17.82  1.75  2.    1.    0.  ]\n",
      " [18.78  3.    2.    0.    0.  ]]\n"
     ]
    }
   ],
   "source": [
    "# Feature selection\n",
    "x1 = df.iloc[:,0:2].values\n",
    "# print(x1)\n",
    "x2 = df.iloc[:,4:].values\n",
    "\n",
    "# x3 = df.iloc[:,3:]\n",
    "# x4 = np.concatenate((x1, x2),axis=1)\n",
    "x = np.concatenate((x1, x2),axis=1)\n",
    "print(x)\n",
    "\n",
    "y = df.iloc[:,3].values\n",
    "\n",
    "\n",
    "# Split the data set before classification\n",
    "# Train set: 70% of data to train the model\n",
    "# Test set: 15% of data to test the model\n",
    "# Validation set: 15% of data used to evaluate \n",
    "# the performance of each classifier and fine-tune \n",
    "# the model parameters\n",
    "# Now we have small data set, therefore test set = validation set\n",
    "x_train, x_test, y_train, y_test = train_test_split(x, y, test_size=0.3, random_state=0)"
   ]
  },
  {
   "cell_type": "code",
   "execution_count": 153,
   "metadata": {},
   "outputs": [
    {
     "name": "stdout",
     "output_type": "stream",
     "text": [
      "Confusion matrix for Naive Bayes\n",
      " [[ 0  2  1  4]\n",
      " [ 0 18 10  0]\n",
      " [ 0 10 15  0]\n",
      " [ 0  0  0 13]]\n",
      "accuracy_Naive Bayes: 0.630\n",
      "precision_Naive Bayes: 0.630\n",
      "recall_Naive Bayes: 0.630\n",
      "f1-score_Naive Bayes : 0.630\n"
     ]
    }
   ],
   "source": [
    "# Naive Bayes\n",
    "\n",
    "gaussian = GaussianNB()\n",
    "gaussian.fit(x_train, y_train)\n",
    "Y_pred = gaussian.predict(x_test) \n",
    "accuracy_nb = round(metrics.accuracy_score(y_test, Y_pred)* 100, 2)\n",
    "acc_gaussian = round(gaussian.score(x_train, y_train) * 100, 2)\n",
    "\n",
    "cm = metrics.confusion_matrix(y_test, Y_pred)\n",
    "accuracy = metrics.accuracy_score(y_test, Y_pred)\n",
    "precision = metrics.precision_score(y_test, Y_pred, average='micro')\n",
    "recall = metrics.recall_score(y_test, Y_pred, average='micro')\n",
    "f1 = metrics.f1_score(y_test, Y_pred, average='micro')\n",
    "print('Confusion matrix for Naive Bayes\\n',cm)\n",
    "print('accuracy_Naive Bayes: %.3f' %accuracy)\n",
    "print('precision_Naive Bayes: %.3f' %precision)\n",
    "print('recall_Naive Bayes: %.3f' %recall)\n",
    "print('f1-score_Naive Bayes : %.3f' %f1)"
   ]
  },
  {
   "cell_type": "code",
   "execution_count": 145,
   "metadata": {},
   "outputs": [
    {
     "data": {
      "text/plain": [
       "Text(0, 0.5, 'Mean Error')"
      ]
     },
     "execution_count": 145,
     "metadata": {},
     "output_type": "execute_result"
    },
    {
     "data": {
      "image/png": "[encoded data removed]",
      "text/plain": [
       "<Figure size 864x432 with 1 Axes>"
      ]
     },
     "metadata": {},
     "output_type": "display_data"
    }
   ],
   "source": [
    "# K-NN (K-Nearest Neighbor)\n",
    "\n",
    "# Determine optimal value for K\n",
    "# Comparing error rate with K-value:\n",
    "# calculate the mean of error for \n",
    "# all the predicted values where K ranges from 1 and 40\n",
    "\n",
    "error = []\n",
    "\n",
    "# Calculating error for K values between 1 and 40\n",
    "for i in range(1, 40):\n",
    "    knn = KNeighborsClassifier(n_neighbors=i)\n",
    "    knn.fit(x_train, y_train)\n",
    "    pred_i = knn.predict(x_test)\n",
    "    error.append(np.mean(pred_i != y_test))\n",
    "    \n",
    "# Plot the error values against K values\n",
    "# to find the best value for K\n",
    "plt.figure(figsize=(12, 6))\n",
    "plt.plot(range(1, 40), error, color='red', linestyle='dashed', marker='o', markerfacecolor='green', markersize=10)\n",
    "plt.title('Error Rate K Value')\n",
    "plt.xlabel('K Value')\n",
    "plt.ylabel('Mean Error')\n",
    "\n",
    "#Choose a K-value where mean error is closest to zero"
   ]
  },
  {
   "cell_type": "code",
   "execution_count": 154,
   "metadata": {},
   "outputs": [
    {
     "data": {
      "text/plain": [
       "<Figure size 432x288 with 0 Axes>"
      ]
     },
     "metadata": {},
     "output_type": "display_data"
    },
    {
     "data": {
      "image/png": "[encoded data removed]",
      "text/plain": [
       "<Figure size 1080x720 with 1 Axes>"
      ]
     },
     "metadata": {},
     "output_type": "display_data"
    },
    {
     "name": "stdout",
     "output_type": "stream",
     "text": [
      "The optimal number of neighbors is 7.\n"
     ]
    }
   ],
   "source": [
    "# Using cross validation for parameter tuning\n",
    "\n",
    "# creating list of K for KNN\n",
    "k_list = list(range(1,120,2))\n",
    "# creating list of cv scores\n",
    "cv_scores = []\n",
    "\n",
    "# perform 10-fold cross validation\n",
    "for k in k_list:\n",
    "    knn = KNeighborsClassifier(n_neighbors=k)\n",
    "    scores = cross_val_score(knn, x_train, y_train, cv=10, scoring='accuracy')\n",
    "    cv_scores.append(scores.mean())\n",
    "    \n",
    "# changing to misclassification error\n",
    "MSE = [1 - x for x in cv_scores]\n",
    "\n",
    "plt.figure()\n",
    "plt.figure(figsize=(15,10))\n",
    "plt.title('The optimal number of neighbors', fontsize=20, fontweight='bold')\n",
    "plt.xlabel('Number of Neighbors K', fontsize=15)\n",
    "plt.ylabel('Misclassification Error', fontsize=15)\n",
    "sns.set_style(\"whitegrid\")\n",
    "plt.plot(k_list, MSE)\n",
    "\n",
    "plt.show()\n",
    "\n",
    "# finding best K\n",
    "best_k = k_list[MSE.index(min(MSE))]\n",
    "print(\"The optimal number of neighbors is %d.\" % best_k)"
   ]
  },
  {
   "cell_type": "code",
   "execution_count": 147,
   "metadata": {},
   "outputs": [
    {
     "name": "stdout",
     "output_type": "stream",
     "text": [
      "Confusion matrix for KNN\n",
      " [[53  3]\n",
      " [ 2 15]]\n",
      "accuracy_KNN : 0.932\n",
      "precision_KNN : 0.932\n",
      "recall_KNN: 0.932\n",
      "f1-score_KNN : 0.932\n"
     ]
    }
   ],
   "source": [
    "knn = KNeighborsClassifier(n_neighbors=1)\n",
    "knn.fit(x_train, y_train)\n",
    "Y_pred = knn.predict(x_test) \n",
    "accuracy_knn=round(metrics.accuracy_score(y_test,Y_pred)* 100, 2)\n",
    "acc_knn = round(knn.score(x_train, y_train) * 100, 2)\n",
    "\n",
    "cm = metrics.confusion_matrix(y_test, Y_pred)\n",
    "accuracy = metrics.accuracy_score(y_test,Y_pred)\n",
    "precision = metrics.precision_score(y_test, Y_pred,average='micro')\n",
    "recall = metrics.recall_score(y_test, Y_pred,average='micro')\n",
    "f1 = metrics.f1_score(y_test,Y_pred,average='micro')\n",
    "\n",
    "print('Confusion matrix for KNN\\n',cm)\n",
    "print('accuracy_KNN : %.3f' %accuracy)\n",
    "print('precision_KNN : %.3f' %precision)\n",
    "print('recall_KNN: %.3f' %recall)\n",
    "print('f1-score_KNN : %.3f' %f1)"
   ]
  },
  {
   "cell_type": "code",
   "execution_count": 155,
   "metadata": {},
   "outputs": [
    {
     "name": "stdout",
     "output_type": "stream",
     "text": [
      "Confusion matrix for SVC\n",
      " [[ 0  3  0  4]\n",
      " [ 0 15 13  0]\n",
      " [ 0 17  8  0]\n",
      " [ 0  0  0 13]]\n",
      "accuracy_SVC: 0.493\n",
      "precision_SVC: 0.493\n",
      "recall_SVC: 0.493\n",
      "f1-score_SVC : 0.493\n"
     ]
    }
   ],
   "source": [
    "# Support Vector Machine\n",
    "\n",
    "# dualbool, default=True\n",
    "# Select the algorithm to either solve the dual or primal optimization problem. \n",
    "# Prefer dual=False when n_samples > n_features.\n",
    "linear_svc = LinearSVC(dual=False)\n",
    "linear_svc.fit(x_train, y_train)\n",
    "Y_pred = linear_svc.predict(x_test)\n",
    "accuracy_svc=round(metrics.accuracy_score(y_test,Y_pred)* 100, 2)\n",
    "acc_linear_svc = round(linear_svc.score(x_train, y_train) * 100, 2)\n",
    "\n",
    "cm = metrics.confusion_matrix(y_test, Y_pred)\n",
    "accuracy = metrics.accuracy_score(y_test,Y_pred)\n",
    "precision = metrics.precision_score(y_test, Y_pred,average='micro')\n",
    "recall = metrics.recall_score(y_test, Y_pred,average='micro')\n",
    "f1 = metrics.f1_score(y_test,Y_pred,average='micro')\n",
    "\n",
    "print('Confusion matrix for SVC\\n',cm)\n",
    "print('accuracy_SVC: %.3f' %accuracy)\n",
    "print('precision_SVC: %.3f' %precision)\n",
    "print('recall_SVC: %.3f' %recall)\n",
    "print('f1-score_SVC : %.3f' %f1)"
   ]
  },
  {
   "cell_type": "code",
   "execution_count": 156,
   "metadata": {},
   "outputs": [
    {
     "data": {
      "text/html": [
       "<div>\n",
       "<style scoped>\n",
       "    .dataframe tbody tr th:only-of-type {\n",
       "        vertical-align: middle;\n",
       "    }\n",
       "\n",
       "    .dataframe tbody tr th {\n",
       "        vertical-align: top;\n",
       "    }\n",
       "\n",
       "    .dataframe thead th {\n",
       "        text-align: right;\n",
       "    }\n",
       "</style>\n",
       "<table border=\"1\" class=\"dataframe\">\n",
       "  <thead>\n",
       "    <tr style=\"text-align: right;\">\n",
       "      <th></th>\n",
       "      <th>Model</th>\n",
       "      <th>Score</th>\n",
       "      <th>Accuracy_score</th>\n",
       "    </tr>\n",
       "  </thead>\n",
       "  <tbody>\n",
       "    <tr>\n",
       "      <th>0</th>\n",
       "      <td>KNN</td>\n",
       "      <td>100.00</td>\n",
       "      <td>93.15</td>\n",
       "    </tr>\n",
       "    <tr>\n",
       "      <th>1</th>\n",
       "      <td>Naive Bayes</td>\n",
       "      <td>64.71</td>\n",
       "      <td>63.01</td>\n",
       "    </tr>\n",
       "    <tr>\n",
       "      <th>2</th>\n",
       "      <td>Support Vector Machine</td>\n",
       "      <td>67.06</td>\n",
       "      <td>49.32</td>\n",
       "    </tr>\n",
       "  </tbody>\n",
       "</table>\n",
       "</div>"
      ],
      "text/plain": [
       "                    Model   Score  Accuracy_score\n",
       "0                     KNN  100.00           93.15\n",
       "1             Naive Bayes   64.71           63.01\n",
       "2  Support Vector Machine   67.06           49.32"
      ]
     },
     "execution_count": 156,
     "metadata": {},
     "output_type": "execute_result"
    }
   ],
   "source": [
    "# Comparing classification methods\n",
    "results = pd.DataFrame({\n",
    "    'Model': ['KNN', \n",
    "              'Naive Bayes',  \n",
    "              'Support Vector Machine'],\n",
    "    'Score': [acc_knn,\n",
    "              acc_gaussian,  \n",
    "              acc_linear_svc],\n",
    "    \"Accuracy_score\":[accuracy_knn,\n",
    "                      accuracy_nb,\n",
    "                      accuracy_svc\n",
    "                     ]})\n",
    "result_df = results.sort_values(by='Accuracy_score', ascending=False)\n",
    "result_df = result_df.reset_index(drop=True)\n",
    "result_df"
   ]
  },
  {
   "cell_type": "code",
   "execution_count": null,
   "metadata": {},
   "outputs": [],
   "source": []
  }
 ],
 "metadata": {
  "kernelspec": {
   "display_name": "Python 3",
   "language": "python",
   "name": "python3"
  },
  "language_info": {
   "codemirror_mode": {
    "name": "ipython",
    "version": 3
   },
   "file_extension": ".py",
   "mimetype": "text/x-python",
   "name": "python",
   "nbconvert_exporter": "python",
   "pygments_lexer": "ipython3",
   "version": "3.8.5"
  }
 },
 "nbformat": 4,
 "nbformat_minor": 4
}
