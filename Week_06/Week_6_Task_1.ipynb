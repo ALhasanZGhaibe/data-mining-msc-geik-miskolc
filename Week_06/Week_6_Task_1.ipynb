{
 "cells": [
  {
   "cell_type": "markdown",
   "metadata": {},
   "source": [
    "Code the logic of RISK strategy board game in case of two players. The attacker rolls 3 red\n",
    "dices and the defender rolls 2 blue dices. In step one, we look for the greatest value in the\n",
    "dices. The looser losts 1 soldier. If the greatest value is the same at both sides, only the\n",
    "attacker losts 1 soldier. In step two, we look for the second greatest value and decide about\n",
    "losting 1 soldier as above. The game has 3 possible outcomes: attacker losts 2 soldiers, both\n",
    "sides lost 1 soldier each, the defender losts 2 soldiers.\n",
    "a) Simulate the game 1000 times and calculate the relative frequency of the three possible\n",
    "outcomes.\n",
    "b) Simulate the game 1000000 times and calculate the relative frequency of the three\n",
    "possible outcomes.\n",
    "c) Calculate the exact probability of the three outcomes by analyzing all possible cases\n",
    "(positive cases / all cases).\n",
    "Print out the results of tasks a, b and c in a tabular form."
   ]
  },
  {
   "cell_type": "code",
   "execution_count": 185,
   "metadata": {},
   "outputs": [],
   "source": [
    "#Import needed libraries\n",
    "import random"
   ]
  },
  {
   "cell_type": "code",
   "execution_count": 191,
   "metadata": {},
   "outputs": [
    {
     "name": "stdout",
     "output_type": "stream",
     "text": [
      "please enter the number of game turn:5\n"
     ]
    }
   ],
   "source": [
    "#variables Declaration\n",
    "attacker_dices = 3\n",
    "defender_dices = 2\n",
    "number_of_turns = int(input(\"please enter the number of game turn:\"))\n",
    "outcome_dict = {'attacker':0, 'both':0, 'defender':0}"
   ]
  },
  {
   "cell_type": "code",
   "execution_count": 192,
   "metadata": {},
   "outputs": [],
   "source": [
    "# a functing to calcualte the results\n",
    "def risk_game (attacker_dices,defender_dices):\n",
    "    #start throwing the dices\n",
    "    #generating sets of dices probability for attacker and defender\n",
    "    #attacker set\n",
    "    attacker_score =[]\n",
    "    for i in range(attacker_dices):\n",
    "        score = random.randint(1,6)\n",
    "        attacker_score.append(score)\n",
    "    print(attacker_score)\n",
    "    # defender set\n",
    "    defender_score =[]\n",
    "    for i in range(defender_dices):\n",
    "        score=random.randint(1,6)\n",
    "        defender_score.append(score)\n",
    "    print(defender_score)\n",
    "\n",
    "    # find the highest value in each set and compaier it to get the results:\n",
    "\n",
    "    attacker_highest_dice = max(attacker_score)\n",
    "    defender_highest_dice = max(defender_score)\n",
    "#     print(attacker_highest_dice,defender_highest_dice)\n",
    "\n",
    "    if attacker_highest_dice > defender_highest_dice:\n",
    "        defender_dices -=1\n",
    "    else:\n",
    "        attacker_dices -=1\n",
    "    return attacker_dices,defender_dices\n"
   ]
  },
  {
   "cell_type": "code",
   "execution_count": 193,
   "metadata": {},
   "outputs": [
    {
     "name": "stdout",
     "output_type": "stream",
     "text": [
      "[1, 5, 1]\n",
      "[3, 6]\n",
      "[1, 3]\n",
      "[1, 6]\n",
      "[3, 5, 2]\n",
      "[1, 3]\n",
      "[5, 3, 6]\n",
      "[4]\n",
      "[3, 2, 2]\n",
      "[3, 2]\n",
      "[4, 4]\n",
      "[5, 5]\n",
      "[6, 2, 5]\n",
      "[4, 4]\n",
      "[1, 4, 5]\n",
      "[6]\n",
      "[6, 3, 4]\n",
      "[6, 1]\n",
      "[6, 1]\n",
      "[5, 1]\n"
     ]
    }
   ],
   "source": [
    "#define the number of games that we want to play\n",
    "for game in range(number_of_turns):\n",
    "    #in each game we have just 2 rounds\n",
    "    for round in range(2):\n",
    "        attacker_dices,defender_dices = risk_game(attacker_dices,defender_dices)\n",
    "    #calculating  the outcome\n",
    "    if attacker_dices == 3:\n",
    "        # the defender lost 2 solders\n",
    "        outcome_dict['defender'] +=1\n",
    "    elif attacker_dices == 2:\n",
    "        # both lost 1 solder\n",
    "        outcome_dict['both'] +=1\n",
    "    else:\n",
    "        # the attacker losts 2 solders\n",
    "        outcome_dict['attacker'] +=1\n",
    "    # reset the dices for a new game\n",
    "    attacker_dices = 3\n",
    "    defender_dices = 2\n",
    "# print(outcome_dict)\n",
    "        "
   ]
  },
  {
   "cell_type": "code",
   "execution_count": 194,
   "metadata": {},
   "outputs": [
    {
     "name": "stdout",
     "output_type": "stream",
     "text": [
      "{'attacker': 2, 'both': 2, 'defender': 1}\n",
      "{'attacker': 0.4, 'both': 0.4, 'defender': 0.2}\n"
     ]
    }
   ],
   "source": [
    "# results\n",
    "probabilties = {}\n",
    "probabilties['attacker']  = outcome_dict['attacker']/number_of_turns\n",
    "probabilties['both']  = outcome_dict['both']/number_of_turns\n",
    "probabilties['defender']  = outcome_dict['defender']/number_of_turns\n",
    "print(outcome_dict)\n",
    "print(probabilties)"
   ]
  },
  {
   "cell_type": "code",
   "execution_count": null,
   "metadata": {},
   "outputs": [],
   "source": []
  }
 ],
 "metadata": {
  "kernelspec": {
   "display_name": "Python 3",
   "language": "python",
   "name": "python3"
  },
  "language_info": {
   "codemirror_mode": {
    "name": "ipython",
    "version": 3
   },
   "file_extension": ".py",
   "mimetype": "text/x-python",
   "name": "python",
   "nbconvert_exporter": "python",
   "pygments_lexer": "ipython3",
   "version": "3.8.5"
  }
 },
 "nbformat": 4,
 "nbformat_minor": 4
}
